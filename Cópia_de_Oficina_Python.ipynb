{
  "nbformat": 4,
  "nbformat_minor": 0,
  "metadata": {
    "colab": {
      "provenance": [],
      "gpuType": "T4",
      "include_colab_link": true
    },
    "kernelspec": {
      "name": "python3",
      "display_name": "Python 3"
    },
    "language_info": {
      "name": "python"
    }
  },
  "cells": [
    {
      "cell_type": "markdown",
      "metadata": {
        "id": "view-in-github",
        "colab_type": "text"
      },
      "source": [
        "<a href=\"https://colab.research.google.com/github/RaphaelaCristina/Oficina_Python-Pretalab/blob/main/C%C3%B3pia_de_Oficina_Python.ipynb\" target=\"_parent\"><img src=\"https://colab.research.google.com/assets/colab-badge.svg\" alt=\"Open In Colab\"/></a>"
      ]
    },
    {
      "cell_type": "markdown",
      "source": [
        "#Bem Vindas - E esse tal de pyhton?(Fazer o projeto em conjunto)\n",
        "\n",
        "Hoje vamos praticar alguns conceitos de python, iremos pegar revisão bem rápida de python básico e depois vamos parti para uma parte mais intermediário, certo?\n",
        "\n",
        "\n",
        "**Aula com a professora:** Nicole Pessoa<br>\n",
        "**Monitora:** Amanda Silva"
      ],
      "metadata": {
        "id": "uAsOMDVdui10"
      }
    },
    {
      "cell_type": "markdown",
      "source": [
        "## 1. Variáveis e Operadores\n",
        "\n",
        "O que são variáveis?\n",
        "\n",
        "São **\"caixinhas\"** que armazenam dados na memória. Em Python, não precisamos declarar o tipo (ela é dinâmica)."
      ],
      "metadata": {
        "id": "Wv109IBZvt8Q"
      }
    },
    {
      "cell_type": "code",
      "execution_count": null,
      "metadata": {
        "id": "qhHYVlwqugWn"
      },
      "outputs": [],
      "source": [
        "name = \"Raphaela\" #String (Texto)\n",
        "idade = 27 #Integer (Número inteiro)\n",
        "altura = 1.83 #Float (Decimal)\n",
        "estudante = False #Boolean (True/False)"
      ]
    },
    {
      "cell_type": "markdown",
      "source": [
        "## Operadores Básicos\n",
        "\n",
        "    Aritméticos: +, -, *, /, // (divisão inteira), % (resto), ** (potência).\n",
        "\n",
        "    Comparação: ==, !=, >, <, >=, <=.\n",
        "\n",
        "    Lógicos: and, or, not."
      ],
      "metadata": {
        "id": "uZG-LeEXwMRs"
      }
    },
    {
      "cell_type": "code",
      "source": [
        "nota1 = 6.7\n",
        "nota2 = 8.7\n",
        "print(nota1 // nota2) # operador de divisão inteira. Ele retorna o maior número inteiro que é menor ou igual ao resultado da divisão (ou seja, \"corta\" as casas decimais).\n",
        "print(nota1 > nota2)\n",
        "print(nota2 != nota1)"
      ],
      "metadata": {
        "id": "PSlq8cA2wIzy",
        "colab": {
          "base_uri": "https://localhost:8080/"
        },
        "outputId": "94d46559-ad5a-47a2-9b53-355efaa017be"
      },
      "execution_count": null,
      "outputs": [
        {
          "output_type": "stream",
          "name": "stdout",
          "text": [
            "0.0\n",
            "False\n",
            "True\n"
          ]
        }
      ]
    },
    {
      "cell_type": "code",
      "source": [
        "#Vamos usar comparação para ver como pode ser usado como exemplo\n",
        "altura1 = 1.74\n",
        "altura2 = 1.95\n",
        "if altura1 > altura2:\n",
        "  print(\"Altura 1 é maior que altura 2\")\n",
        "else:\n",
        "  print(\"Altura 2 é maior que altura 1\")\n"
      ],
      "metadata": {
        "id": "lI6riVNf6c14",
        "colab": {
          "base_uri": "https://localhost:8080/"
        },
        "outputId": "61aa5225-43f3-4e8e-81f7-022f47435b19"
      },
      "execution_count": null,
      "outputs": [
        {
          "output_type": "stream",
          "name": "stdout",
          "text": [
            "Altura 2 é maior que altura 1\n"
          ]
        }
      ]
    },
    {
      "cell_type": "markdown",
      "source": [
        "## 2. Estruturas de Dados\n",
        "\n",
        "Listas (list)\n",
        "\n",
        "    Ordenadas, mutáveis e permitem itens duplicados."
      ],
      "metadata": {
        "id": "or5Due4Ywev_"
      }
    },
    {
      "cell_type": "code",
      "source": [
        "frutas = [banana, pessego, pera, melancia]"
      ],
      "metadata": {
        "id": "vDRburwF8eYW",
        "colab": {
          "base_uri": "https://localhost:8080/",
          "height": 141
        },
        "outputId": "dc169f3f-3a1b-49df-d16c-900987aabb9f"
      },
      "execution_count": null,
      "outputs": [
        {
          "output_type": "error",
          "ename": "NameError",
          "evalue": "name 'banana' is not defined",
          "traceback": [
            "\u001b[0;31m---------------------------------------------------------------------------\u001b[0m",
            "\u001b[0;31mNameError\u001b[0m                                 Traceback (most recent call last)",
            "\u001b[0;32m<ipython-input-24-b57c4085081f>\u001b[0m in \u001b[0;36m<cell line: 0>\u001b[0;34m()\u001b[0m\n\u001b[0;32m----> 1\u001b[0;31m \u001b[0mfrutas\u001b[0m \u001b[0;34m=\u001b[0m \u001b[0;34m[\u001b[0m\u001b[0mbanana\u001b[0m\u001b[0;34m,\u001b[0m \u001b[0mpessego\u001b[0m\u001b[0;34m,\u001b[0m \u001b[0mpera\u001b[0m\u001b[0;34m,\u001b[0m \u001b[0mmelancia\u001b[0m\u001b[0;34m]\u001b[0m\u001b[0;34m\u001b[0m\u001b[0;34m\u001b[0m\u001b[0m\n\u001b[0m",
            "\u001b[0;31mNameError\u001b[0m: name 'banana' is not defined"
          ]
        }
      ]
    },
    {
      "cell_type": "code",
      "source": [
        "frutas = [\"banana\", \"pessego\", \"pera\", \"melancia\"]"
      ],
      "metadata": {
        "id": "WBG0GT2f8fh-"
      },
      "execution_count": null,
      "outputs": []
    },
    {
      "cell_type": "code",
      "source": [
        "frutas.append(\"abacaxi\")  # Adiciona no final\n",
        "frutas[2] = \"morango\"     # Altera um item\n",
        "print(frutas[0])            # Acessa o primeiro item"
      ],
      "metadata": {
        "id": "z62LZhT-8405",
        "colab": {
          "base_uri": "https://localhost:8080/"
        },
        "outputId": "b3cb3214-5a9d-434d-a92b-3bcf021b36c4"
      },
      "execution_count": null,
      "outputs": [
        {
          "output_type": "stream",
          "name": "stdout",
          "text": [
            "banana\n"
          ]
        }
      ]
    },
    {
      "cell_type": "code",
      "source": [
        "print(frutas)"
      ],
      "metadata": {
        "colab": {
          "base_uri": "https://localhost:8080/"
        },
        "id": "x09AZPuqMpEv",
        "outputId": "1e9ff6fa-9abf-4004-f6a9-b86a2e2fd3f7"
      },
      "execution_count": null,
      "outputs": [
        {
          "output_type": "stream",
          "name": "stdout",
          "text": [
            "['banana', 'pessego', 'morango', 'melancia', 'abacaxi']\n"
          ]
        }
      ]
    },
    {
      "cell_type": "markdown",
      "source": [
        "Tuplas (tuple)\n",
        "\n",
        "    Ordenadas, imutáveis e permitem itens duplicados."
      ],
      "metadata": {
        "id": "93l4-wMrwx64"
      }
    },
    {
      "cell_type": "code",
      "source": [
        "#Exemplo 1: Tupla SimplesExemplo 1: Tupla Simples\n",
        "coordenadas = (10 , 20)\n"
      ],
      "metadata": {
        "id": "IkhpXiBtwxeM"
      },
      "execution_count": null,
      "outputs": []
    },
    {
      "cell_type": "code",
      "source": [
        "#Exemplo 2: Tupla com Um Elemento\n",
        "tupla_unica = (2 ,) #Tupla precisa de vírgula\n",
        "nao_e_tupla = (2) #Isso é um número inteiro nã é uma tupla"
      ],
      "metadata": {
        "id": "lOCp97fAxrUh"
      },
      "execution_count": null,
      "outputs": []
    },
    {
      "cell_type": "markdown",
      "source": [
        "Dicionários (dict)\n",
        "\n",
        "    Pares chave-valor, não ordenados, mutáveis."
      ],
      "metadata": {
        "id": "uuWwPjQZyJ4Q"
      }
    },
    {
      "cell_type": "code",
      "source": [
        "pessoa = {\"Nome\": [\"Raphaela\", \"Nicole\"], \"Idade\": [27 , 28]}\n",
        "print(pessoa[\"Nome\"])\n",
        "print(pessoa[\"Idade\"])"
      ],
      "metadata": {
        "id": "KfkdLScsyEJu",
        "colab": {
          "base_uri": "https://localhost:8080/"
        },
        "outputId": "11b073e7-cad4-4988-98df-54808ff2767e"
      },
      "execution_count": null,
      "outputs": [
        {
          "output_type": "stream",
          "name": "stdout",
          "text": [
            "['Raphaela', 'Nicole']\n",
            "[27, 28]\n"
          ]
        }
      ]
    },
    {
      "cell_type": "markdown",
      "source": [
        "## 3. Loops e Condicionais\n",
        "\n",
        "```\n",
        "# Condicionais (if, elif, else)\n",
        "```\n",
        "\n",
        "\n",
        "Executa blocos de código conforme condições."
      ],
      "metadata": {
        "id": "e0fM62j4yZCL"
      }
    },
    {
      "cell_type": "code",
      "source": [
        "idade = 16\n",
        "if idade >= 18:\n",
        "  print(\"Você é obrigado a votar.\")\n",
        "\n",
        "\n",
        "elif  idade >= 16 and idade <= 18:\n",
        "  print(\"Seu voto é opcional.\")\n",
        "\n",
        "else:\n",
        "  print(\"Você não pode votar.\")"
      ],
      "metadata": {
        "id": "1bvgGxNSyj4d",
        "colab": {
          "base_uri": "https://localhost:8080/"
        },
        "outputId": "9a258302-a3c3-4adf-fa6e-fa747ead8706"
      },
      "execution_count": null,
      "outputs": [
        {
          "output_type": "stream",
          "name": "stdout",
          "text": [
            "Voto opcional.\n"
          ]
        }
      ]
    },
    {
      "cell_type": "markdown",
      "source": [
        "\n",
        "Loops (for e while)\n"
      ],
      "metadata": {
        "id": "6bYRbdpEywlz"
      }
    },
    {
      "cell_type": "code",
      "source": [
        "#for (itera sobre sequências)\n",
        "numeros = [1, 2, 3]\n",
        "\n",
        "for num in numeros:\n",
        "  print(num * 2)"
      ],
      "metadata": {
        "id": "KH7Dnu8fzUng",
        "colab": {
          "base_uri": "https://localhost:8080/"
        },
        "outputId": "2cdf2b60-2f40-44e0-b62b-963d85ef5122"
      },
      "execution_count": null,
      "outputs": [
        {
          "output_type": "stream",
          "name": "stdout",
          "text": [
            "2\n",
            "4\n",
            "6\n"
          ]
        }
      ]
    },
    {
      "cell_type": "code",
      "source": [
        "#while (executa enquanto condição for verdadeira)\n",
        "contador = 0\n",
        "while contador < 3 :\n",
        "    print(contador)\n",
        "    contador +=1"
      ],
      "metadata": {
        "id": "qypT8h4_ztkl",
        "colab": {
          "base_uri": "https://localhost:8080/"
        },
        "outputId": "9fbfeba8-91a1-4d84-d821-1123bd1f55a4"
      },
      "execution_count": null,
      "outputs": [
        {
          "output_type": "stream",
          "name": "stdout",
          "text": [
            "0\n",
            "1\n",
            "2\n"
          ]
        }
      ]
    },
    {
      "cell_type": "markdown",
      "source": [
        "## 4. Funções (def)\n",
        "\n",
        "Blocos de código reutilizáveis que recebem parâmetros e retornam valores."
      ],
      "metadata": {
        "id": "GIPhCyOrz7O9"
      }
    },
    {
      "cell_type": "code",
      "source": [
        "#Função Básica\n",
        "def saudacao(nome):\n",
        "    return f\"Olá\", {nome}\n",
        "\n",
        "print(saudacao(\"Raphaela\"))"
      ],
      "metadata": {
        "id": "FuM9yQXXz9JI",
        "colab": {
          "base_uri": "https://localhost:8080/"
        },
        "outputId": "65af7e72-320a-4489-e2d9-f4e83b4b37a2"
      },
      "execution_count": null,
      "outputs": [
        {
          "output_type": "stream",
          "name": "stdout",
          "text": [
            "('Olá', {'Raphaela'})\n"
          ]
        }
      ]
    },
    {
      "cell_type": "code",
      "source": [
        "#Parâmetros Padrão\n",
        "def ():\n",
        "    return\n",
        "\n",
        "print(())\n",
        "print(())"
      ],
      "metadata": {
        "id": "MFnfYOzr0NOE"
      },
      "execution_count": null,
      "outputs": []
    },
    {
      "cell_type": "markdown",
      "source": [
        "# Agora vamos aprofundar mais?"
      ],
      "metadata": {
        "id": "PH6CK1sc0j3x"
      }
    },
    {
      "cell_type": "markdown",
      "source": [
        "## 1. Estruturas de Dados Avançadas\n",
        "\n",
        "List Comprehension vs. Loops Tradicionais: Explicação para Iniciantes\n",
        "\n",
        "Imagina que você tem uma caixa de brinquedos (uma lista) e quer fazer uma operação com cada brinquedo. Você pode fazer isso de 2 formas:\n",
        "\n",
        "    Método Tradicional (Loop For)\n",
        "    → Pegar um brinquedo de cada vez, fazer a operação e colocar na nova caixa.\n",
        "    → Passo a passo, manualmente.\n",
        "\n",
        "    List Comprehension\n",
        "    → Uma \"mágica\" que transforma toda a caixa de uma vez.\n",
        "    → Mais rápido e elegante."
      ],
      "metadata": {
        "id": "U27hdgpM16eB"
      }
    },
    {
      "cell_type": "markdown",
      "source": [
        "**Exemplo 1: Dobrar Números**\n",
        "\n",
        "Situação: Você tem os números [1, 2, 3] e quer [2, 4, 6]."
      ],
      "metadata": {
        "id": "Zuyork3zO64M"
      }
    },
    {
      "cell_type": "code",
      "source": [
        "numeros = [1,2,3]\n",
        "dobrados = []\n",
        "for num in numeros:\n",
        "  dobrados.append(num *2)\n",
        "print(dobrados)"
      ],
      "metadata": {
        "id": "tb8umCz70NM1",
        "colab": {
          "base_uri": "https://localhost:8080/"
        },
        "outputId": "61666023-3a7a-4f4d-e93e-7d992386d5e2"
      },
      "execution_count": null,
      "outputs": [
        {
          "output_type": "stream",
          "name": "stdout",
          "text": [
            "[2, 4, 6]\n"
          ]
        }
      ]
    },
    {
      "cell_type": "code",
      "source": [
        "#Versão com List Comprehension (Mágica)\n",
        "numeros = [1,2,3]\n",
        "dobrados = [num *2 for num in numeros]\n",
        "print(dobrados)"
      ],
      "metadata": {
        "id": "9NCceCBE2FvS",
        "colab": {
          "base_uri": "https://localhost:8080/"
        },
        "outputId": "c6bb9666-c765-4218-ec33-b2259d9a1558"
      },
      "execution_count": null,
      "outputs": [
        {
          "output_type": "stream",
          "name": "stdout",
          "text": [
            "[2, 4, 6]\n"
          ]
        }
      ]
    },
    {
      "cell_type": "markdown",
      "source": [
        "**Comparação:**\n",
        "\n",
        "    Loop: 3 linhas (criar lista vazia + loop + append)\n",
        "\n",
        "    List Comprehension: 1 linha só!"
      ],
      "metadata": {
        "id": "FcxPrme3POrH"
      }
    },
    {
      "cell_type": "markdown",
      "source": [
        "**Exemplo 2: Filtrar Frutas**\n",
        "\n",
        "Situação: Você tem [\"maçã\", \"banana\", \"morango\"] e quer só as com \"m\"."
      ],
      "metadata": {
        "id": "E2zQvj8oPTLb"
      }
    },
    {
      "cell_type": "code",
      "source": [
        "#Loop Tradicional\n",
        "frutas = [\"maçã\", \"banana\", \"morango\"]\n",
        "filtradas = []\n",
        "for fruta in frutas:\n",
        "    if fruta.startswith(\"m\"):\n",
        "        filtradas.append(fruta)\n",
        "\n",
        "print(filtradas)\n"
      ],
      "metadata": {
        "id": "lO_p5HLSPb6v",
        "colab": {
          "base_uri": "https://localhost:8080/"
        },
        "outputId": "5eb28630-2a67-46ff-fc19-9649ec0cbc90"
      },
      "execution_count": null,
      "outputs": [
        {
          "output_type": "stream",
          "name": "stdout",
          "text": [
            "['maçã', 'morango']\n"
          ]
        }
      ]
    },
    {
      "cell_type": "code",
      "source": [
        "#List Comprehension\n",
        "frutas = [\"maçã\", \"banana\", \"morango\"]\n",
        "filtradas = [fruta for fruta in frutas if fruta.startswith(\"m\")]\n",
        "print(filtradas)"
      ],
      "metadata": {
        "id": "LPCVykLzPlG4",
        "colab": {
          "base_uri": "https://localhost:8080/"
        },
        "outputId": "ab6f343b-2012-49ca-b39a-344faa4f8a72"
      },
      "execution_count": null,
      "outputs": [
        {
          "output_type": "stream",
          "name": "stdout",
          "text": [
            "['maçã', 'morango']\n"
          ]
        }
      ]
    },
    {
      "cell_type": "markdown",
      "source": [
        "**Loop Tradicional:** Quando a lógica é complexa (muitos passos), Quando precisa de break ou continue e Melhor para iniciantes entenderem.\n",
        "\n",
        "**List Comprehension:** Para operações simples e transformações rápidas, Quando quer código mais limpo e Pythonico e Mais eficiente em performance para listas grandes."
      ],
      "metadata": {
        "id": "hB0BWa5XPykw"
      }
    },
    {
      "cell_type": "markdown",
      "source": [
        "b) Sets (Conjuntos)\n",
        "\n",
        "Úteis para operações matemáticas e remoção de duplicados."
      ],
      "metadata": {
        "id": "gZxMGZ-W2N7a"
      }
    },
    {
      "cell_type": "code",
      "source": [
        "#Exemplo 3: União e Interseção\n",
        "A = {1,2,3}\n",
        "B = {3,4,5}\n",
        "print(A.union(B))\n"
      ],
      "metadata": {
        "id": "7uDM1aDx2Sm_",
        "colab": {
          "base_uri": "https://localhost:8080/"
        },
        "outputId": "2143509e-57ca-429d-ef74-8b4fe0753bd2"
      },
      "execution_count": null,
      "outputs": [
        {
          "output_type": "stream",
          "name": "stdout",
          "text": [
            "{1, 2, 3, 4, 5}\n"
          ]
        }
      ]
    },
    {
      "cell_type": "code",
      "source": [
        "#Exemplo 4: Remover Duplicados de uma Lista\n",
        "lista = [1,2,3,4,4,4]\n",
        "unicos = list(set(lista))\n",
        "print(unicos)\n"
      ],
      "metadata": {
        "id": "3z1AxXIe2aYB",
        "colab": {
          "base_uri": "https://localhost:8080/"
        },
        "outputId": "87fa5dfb-58dc-4844-8b2f-a0a1dc7001ee"
      },
      "execution_count": null,
      "outputs": [
        {
          "output_type": "stream",
          "name": "stdout",
          "text": [
            "[1, 2, 3, 4]\n"
          ]
        }
      ]
    },
    {
      "cell_type": "markdown",
      "source": [
        "c) Dicionários Avançados (defaultdict, Counter)"
      ],
      "metadata": {
        "id": "VRPzfvZ53fWY"
      }
    },
    {
      "cell_type": "code",
      "source": [
        "from collections import Counter\n",
        "\n",
        "numeros = [1,2,3,4,4,4]\n",
        "contagem = Counter(numeros)\n",
        "print(contagem)\n"
      ],
      "metadata": {
        "id": "GQVguBhh3GoA",
        "colab": {
          "base_uri": "https://localhost:8080/"
        },
        "outputId": "62880cb5-2a2a-481c-92aa-ac96a1de84d7"
      },
      "execution_count": null,
      "outputs": [
        {
          "output_type": "stream",
          "name": "stdout",
          "text": [
            "Counter({4: 3, 1: 1, 2: 1, 3: 1})\n"
          ]
        }
      ]
    },
    {
      "cell_type": "code",
      "source": [
        "#Exemplo 6: defaultdict (Valor Padrão Automático)\n",
        "numeros = [1,2,3,4,4,4]\n",
        "\n"
      ],
      "metadata": {
        "id": "PdetD8aV3w5l"
      },
      "execution_count": null,
      "outputs": []
    },
    {
      "cell_type": "markdown",
      "source": [
        "**Exercício:**\n",
        "\n",
        "Transforme este loop em List Comprehension:\n",
        "\n",
        "\n",
        "\n",
        "```\n",
        "# Loop original\n",
        "quadrados = []\n",
        "for num in range(1, 6):\n",
        "    quadrados.append(num ** 2)\n",
        "\n",
        "# Sua resposta aqui:\n",
        "quadrados = [_____ for _____ in _____]\n",
        "\n",
        "```\n",
        "\n"
      ],
      "metadata": {
        "id": "3-7eyHhV4Stc"
      }
    },
    {
      "cell_type": "markdown",
      "source": [
        "## 2. Manipulação de Arquivos\n",
        "\n",
        "a) Lendo e Escrevendo Arquivos\n",
        "\n",
        "[Para entender mais sobre](https://www.freecodecamp.org/portuguese/news/como-escrever-em-um-arquivo-em-python-open-read-append-e-outras-funcoes-de-manipulacao-explicadas/)"
      ],
      "metadata": {
        "id": "gmjzhmqb4j8o"
      }
    },
    {
      "cell_type": "code",
      "source": [
        "#Exemplo 7: Arquivo TXT\n",
        "# Escrevendo\n",
        "with open (\"dados.txt\", \"w\") as arquivo:\n",
        "  arquivo.write(\"python\\né\\nincrivel\")\n",
        "\n",
        "# Lendo\n",
        "with open (\"dados.txt\", \"r\") as arquivo:\n",
        "  conteudo = arquivo.read()\n",
        "print(conteudo)"
      ],
      "metadata": {
        "id": "0WS-PH6P4oK0",
        "colab": {
          "base_uri": "https://localhost:8080/"
        },
        "outputId": "c231f8c6-4cd5-4ac2-e2fb-c3f1e9d7a911"
      },
      "execution_count": null,
      "outputs": [
        {
          "output_type": "stream",
          "name": "stdout",
          "text": [
            "python\n",
            "é\n",
            "incrivel\n"
          ]
        }
      ]
    },
    {
      "cell_type": "markdown",
      "source": [
        "Para você entender mais mais sobre importar com Pandas\n",
        "\n",
        "[Aprofando conhecimento de importação com pandas](https://www.datacamp.com/pt/tutorial/pandas-read-csv)"
      ],
      "metadata": {
        "id": "6AgPjs2YAqf7"
      }
    },
    {
      "cell_type": "code",
      "source": [
        "#Exemplo 8: Arquivo CSV (com Pandas)\n",
        "\n",
        "import pandas as pd\n",
        "\n",
        "# Lendo CSV\n",
        "dados = pd.read_csv(\"dados.csv\")\n",
        "print(dados.head())\n",
        "\n",
        "\n",
        "# Calculando média de uma coluna\n"
      ],
      "metadata": {
        "id": "1zffJcMO4zYA"
      },
      "execution_count": null,
      "outputs": []
    },
    {
      "cell_type": "markdown",
      "source": [
        "**Exercício:**\n",
        "\n",
        "Crie um arquivo notas.csv com colunas aluno e nota, depois calcule a média das notas."
      ],
      "metadata": {
        "id": "O8QeIgMl53VA"
      }
    },
    {
      "cell_type": "markdown",
      "source": [
        "##3. Programação Orientada a Objetos (POO)\n",
        "\n",
        "a) Classes e Objetos\n",
        "Pense em classes como receitas de bolo e objetos como os bolos prontos.\n",
        "<br>\n",
        "\n",
        "\n",
        "Parte 1: A Receita (Classe)\n",
        "\n",
        "Uma classe é como um molde que define:\n",
        "\n",
        "    Atributos: \"Ingredientes\" do objeto (ex: cor, tamanho).\n",
        "\n",
        "    Métodos: \"Ações\" que o objeto pode fazer (ex: assar, decorar)."
      ],
      "metadata": {
        "id": "RLLB8P5d6JAR"
      }
    },
    {
      "cell_type": "code",
      "source": [
        "#Exemplo: Classe Bolo\n",
        "\n",
        "class Bolo:\n",
        "    # Atributos (ingredientes do bolo)\n",
        "    def __init__(self, sabor, cobertura, tamanho):\n",
        "        self.sabor = sabor\n",
        "        self.cobertura = cobertura\n",
        "        self.tamanho = tamanho\n",
        "\n",
        "    # Métodos (ações do bolo)\n",
        "    def preparar(self):\n",
        "        print(f\"Preparando um bolo {self.tamanho} de {self.sabor} com cobertura de {self.cobertura}.\")\n",
        "\n",
        "    #Método para descrever o bolo\n",
        "    def descricao(self):\n",
        "        print(f\"Sabor:{self.sabor}; \\nTamanho:{self.tamanho}; \\nCoberura:{self.cobertura}\")\n",
        "\n",
        "\n"
      ],
      "metadata": {
        "id": "Ykn-8_ma6Hi_"
      },
      "execution_count": null,
      "outputs": []
    },
    {
      "cell_type": "markdown",
      "source": [
        "Explicação:\n",
        "\n",
        "    __init__: Método especial que \"prepara\" o objeto (como misturar os ingredientes).\n",
        "\n",
        "    self.sabor: Cada bolo terá seu próprio sabor (atributo único)."
      ],
      "metadata": {
        "id": "OPHsFI4YR_Ut"
      }
    },
    {
      "cell_type": "markdown",
      "source": [
        "**Parte 2: Os Bolos Prontos (Objetos)**\n",
        "\n",
        "Quando você usa a receita para fazer um bolo, está criando um objeto."
      ],
      "metadata": {
        "id": "3Qr3ifTJSOo9"
      }
    },
    {
      "cell_type": "code",
      "source": [
        "#Exemplo: Criando Objetos\n",
        "\n",
        "# Criando objetos da classe Bolo\n",
        "bolo_chocolate = Bolo(\"chocolate\", \"granulado colorido\", \"grande\")\n",
        "bolo_morango = Bolo(\"morango\", \"chocolate branco e morangos picados\", \"médio\")\n",
        "bolo_ninho = Bolo(\"ninho\", \"chocolate branco e ninho\", \"pequeno\")\n",
        "\n",
        "# Chamando o método preparar para cada bolo\n",
        "bolo_chocolate.preparar()\n",
        "bolo_morango.preparar()\n",
        "bolo_ninho.preparar()"
      ],
      "metadata": {
        "id": "BP4qWbcTSHjI",
        "colab": {
          "base_uri": "https://localhost:8080/"
        },
        "outputId": "77026369-7734-4c51-efd5-60b104b9141e"
      },
      "execution_count": null,
      "outputs": [
        {
          "output_type": "stream",
          "name": "stdout",
          "text": [
            "Preparando um bolo grande de chocolate com cobertura de granulado colorido.\n",
            "Preparando um bolo médio de morango com cobertura de chocolate branco e morangos picados.\n",
            "Preparando um bolo pequeno de ninho com cobertura de chocolate branco e ninho.\n"
          ]
        }
      ]
    },
    {
      "cell_type": "markdown",
      "source": [
        "**Por que Usar Classes?**\n",
        "\n",
        "    Organização: Agrupa dados (atributos) e ações (métodos) em um único lugar.\n",
        "\n",
        "    Reutilização: Crie vários objetos com a mesma estrutura.\n",
        "\n",
        "    Flexibilidade: Cada objeto pode ter valores diferentes."
      ],
      "metadata": {
        "id": "UKpuvuXZS3Ro"
      }
    },
    {
      "cell_type": "markdown",
      "source": [
        "    Classe = Planta de uma casa (define como será).\n",
        "\n",
        "    Objeto = Casa construída (pode ter várias, cada uma com suas cores e donos)."
      ],
      "metadata": {
        "id": "VEr7JIr6S_un"
      }
    },
    {
      "cell_type": "markdown",
      "source": [
        "**Parte 3: Personalizando Objetos**\n",
        "\n",
        "Você pode modificar atributos depois de criar o objeto:\n",
        "bolo1.cobertura = \"castanhas\"  # Troca a cobertura\n",
        "print(bolo1.descrever())  # Agora: \"Bolo de chocolate com castanhas!\""
      ],
      "metadata": {
        "id": "UP1ATZwYSn6X"
      }
    },
    {
      "cell_type": "code",
      "source": [
        "  # Troca a cobertura\n",
        "bolo_chocolate = Bolo(\"chocolate\", \"granulado colorido\", \"grande\")\n",
        "\n",
        "print(f\"Antes de alterar a cobertura -> {bolo_chocolate.cobertura}!\")\n",
        "\n",
        "bolo_chocolate.cobertura = \"castanhas\"  # Alterando o valor da cobertura\n",
        "\n",
        "print(f\"\\nDepois de alterar a cobertura!\\n\")\n",
        "\n",
        "# Mostrando a nova descrição\n",
        "print(bolo_chocolate.descricao())\n",
        "\n",
        "# Agora: \"Bolo de chocolate com castanhas!\"\n",
        "print(f\"\\nBolo de chocolate com {bolo_chocolate.cobertura}!\")"
      ],
      "metadata": {
        "id": "bLC8dEHBSnFJ",
        "colab": {
          "base_uri": "https://localhost:8080/"
        },
        "outputId": "876115fc-614b-4424-afdb-e458c4aa622e"
      },
      "execution_count": null,
      "outputs": [
        {
          "output_type": "stream",
          "name": "stdout",
          "text": [
            "Antes de alterar a cobertura -> granulado colorido!\n",
            "\n",
            "Depois de alterar a cobertura!\n",
            "\n",
            "Sabor:chocolate; \n",
            "Tamanho:grande; \n",
            "Coberura:castanhas\n",
            "None\n",
            "\n",
            "Bolo de chocolate com castanhas!\n"
          ]
        }
      ]
    },
    {
      "cell_type": "markdown",
      "source": [
        "## Herança e Polimorfismo: Explicação para Iniciantes\n",
        "\n",
        "Vamos dar exemplo de algo que vocês conhecem que é o zoológico e iremos organizar um de forma digital, já conseguiu visualizar né?\n",
        "\n",
        "1. Herança (Pai e Filho)\n",
        "\n",
        "    O que é?\n",
        "\n",
        "        É como uma herança de família: um filho herda características do pai.\n",
        "\n",
        "        No código: uma classe (filha) pode copiar atributos e métodos de outra classe (pai).\n",
        "\n",
        "    Exemplo Prático:\n",
        "\n",
        "      Todo animal tem um nome e faz um som.\n",
        "\n",
        "      Um cachorro é um animal, então ele herda essas características, mas seu som é diferente (\"Au Au!\")."
      ],
      "metadata": {
        "id": "8w96c14Q78Em"
      }
    },
    {
      "cell_type": "code",
      "source": [
        "#Aqui iremos fazer class com animal\n",
        "\n",
        "# Classe pai: Animal\n",
        "class Animal:\n",
        "    def __init__(self, nome):\n",
        "        self.nome = nome\n",
        "\n",
        "    def fazer_som(self):\n",
        "        return \"Som genérico de animal\"\n",
        "\n",
        "# Classe filha: Cachorro\n",
        "class Cachorro(Animal):\n",
        "    def __init__(self, nome, raca):\n",
        "        super().__init__(nome)  # Herda o nome do pai (Animal)\n",
        "        self.raca = raca\n",
        "\n",
        "    def fazer_som(self):  # Sobrescreve o comportamento do método\n",
        "        return \"Au Au!\"\n",
        "\n",
        "# Classe filha: Gato\n",
        "class Gato(Animal):\n",
        "    def __init__(self, nome, cor):\n",
        "        super().__init__(nome)  # Herda o nome do pai (Animal)\n",
        "        self.cor = cor\n",
        "\n",
        "    def fazer_som(self):  # Sobrescreve o comportamento do método\n",
        "        return \"Miau!\"\n",
        "\n",
        "# Classe filha: Passaro\n",
        "class Passaro(Animal):\n",
        "    def __init__(self, nome, cor):\n",
        "        super().__init__(nome)  # Herda o nome do pai (Animal)\n",
        "        self.cor = cor\n",
        "\n",
        "    def fazer_som(self):  # Sobrescreve o comportamento do método\n",
        "        return \"Piu Piu!\"\n",
        "\n",
        "# Criando instâncias dos animais\n",
        "cachorro = Cachorro(\"Luna\", \"SRD\")\n",
        "gato = Gato(\"Mel\", \"Branco\")\n",
        "passaro = Passaro(\"Pintinho\", \"Amarelo\")\n",
        "\n",
        "# Chamando os métodos\n",
        "print(f\"{cachorro.nome} diz: {cachorro.fazer_som()}\")\n",
        "print(f\"{gato.nome} diz: {gato.fazer_som()}\")\n",
        "print(f\"{passaro.nome} diz: {passaro.fazer_som()}\")\n"
      ],
      "metadata": {
        "id": "927VWJrl6Fze",
        "colab": {
          "base_uri": "https://localhost:8080/"
        },
        "outputId": "0df73df6-a85a-4bcd-9ab6-dd6f36f29136"
      },
      "execution_count": null,
      "outputs": [
        {
          "output_type": "stream",
          "name": "stdout",
          "text": [
            "Luna diz: Au Au!\n",
            "Mel diz: Miau!\n",
            "Pintinho diz: Piu Piu!\n"
          ]
        }
      ]
    },
    {
      "cell_type": "markdown",
      "source": [
        "Por que usar?\n",
        "\n",
        "    Para não repetir código (ex: todos os animais têm nome, mas cada um faz um som diferente)."
      ],
      "metadata": {
        "id": "86IEyxyf8ztU"
      }
    },
    {
      "cell_type": "markdown",
      "source": [
        "2. Polimorfismo (Múltiplas Formas)\n",
        "\n",
        "\n",
        "```\n",
        "É a capacidade de um mesmo método se comportar de formas diferentes dependendo do objeto.\n",
        "\n",
        "      Igual ao botão \"ligar\" em aparelhos:\n",
        "\n",
        "      Na TV: liga a tela.\n",
        "\n",
        "      No rádio: liga o som.\n",
        "```\n",
        "\n",
        "\n",
        "\n",
        "    Exemplo Prático:\n",
        "\n",
        "    A função fazer_som() funciona para qualquer animal, mas cada um tem sua própria versão do som."
      ],
      "metadata": {
        "id": "cXDfhdMc82r0"
      }
    },
    {
      "cell_type": "code",
      "source": [
        "#Vamos fazer som dos animais?\n",
        "\n",
        "def fazer_som(self):  # Sobrescreve o comportamento do método\n",
        "        return f\"{self.nome} diz: Piu Piu!\"\n",
        "\n",
        "# Função que aceita qualquer tipo de animal e faz ele emitir seu som\n",
        "def fazer_animais_fazerem_som(animal):\n",
        "    print(animal.fazer_som())\n",
        "\n",
        "# Criando instâncias de diferentes animais\n",
        "cachorro = Cachorro(\"Luna\", \"SR\")\n",
        "gato = Gato(\"Mel\", \"Branco\")\n",
        "passaro = Passaro(\"Pintinho\", \"Amarelo\")\n",
        "\n",
        "# Chamando a função para todos os animais\n",
        "fazer_animais_fazerem_som(cachorro)\n",
        "fazer_animais_fazerem_som(gato)\n",
        "fazer_animais_fazerem_som(passaro)"
      ],
      "metadata": {
        "id": "T9EOjVM345ls",
        "colab": {
          "base_uri": "https://localhost:8080/"
        },
        "outputId": "8b9419c3-067d-4942-d693-96c38af56eba"
      },
      "execution_count": null,
      "outputs": [
        {
          "output_type": "stream",
          "name": "stdout",
          "text": [
            "Au Au!\n",
            "Miau!\n",
            "Piu Piu!\n"
          ]
        }
      ]
    },
    {
      "cell_type": "markdown",
      "source": [
        "**Por que usar?**\n",
        "\n",
        "  Para escrever código flexível: a mesma função (fazer_som()) funciona com qualquer animal, sem precisar saber se é um cachorro, gato, etc."
      ],
      "metadata": {
        "id": "zgry4hat-DkW"
      }
    },
    {
      "cell_type": "markdown",
      "source": [
        "Comparação com o Mundo Real\n",
        "\n",
        "\n",
        "1.   **Conceito:** Heranças, Polimorfismo\n",
        "2.   **Exemplo do Mundo Real (Heranças):** Filho herda o sobrenome do pai.\n",
        "3.   **Exemplo do Mundo Real (Polimorfismo):** Botão \"ligar\" funciona em vários aparelhos.\n",
        "\n",
        "\n",
        "Exemplo em Python:\n",
        "\n",
        "```\n",
        "Heranças: Cachorro herda nome de Animal.\n",
        "```\n",
        "\n",
        "```\n",
        "Polimorfismo: fazer_som() funciona com Cachorro, Gato, etc.\n",
        "```\n",
        "\n",
        "\n",
        "\n"
      ],
      "metadata": {
        "id": "C6PWv0de-KzC"
      }
    },
    {
      "cell_type": "markdown",
      "source": [
        "**Exercício para Fixar**\n",
        "\n",
        "Crie uma classe Veiculo com método ligar(), e duas subclasses (Carro e Moto) que sobrescrevem esse método:"
      ],
      "metadata": {
        "id": "4NRwIS1K_qM4"
      }
    },
    {
      "cell_type": "markdown",
      "source": [
        "##NumPy: Arrays e Operações Matemáticas\n",
        "\n",
        "Pense no NumPy como uma super calculadora para lidar com listas de números. Ele é ultra-rápido e faz contas complexas em uma única linha!"
      ],
      "metadata": {
        "id": "ZVpFmAvB3D9c"
      }
    },
    {
      "cell_type": "markdown",
      "source": [
        "**Parte 1: Criando Arrays (Listas Turbinadas)**\n",
        "\n",
        "Array = Lista especial do NumPy que permite cálculos rápidos."
      ],
      "metadata": {
        "id": "Gmm90u9e3NdU"
      }
    },
    {
      "cell_type": "code",
      "source": [
        "#Exemplo 1: Array Básico\n",
        "numeros = [1,2,3,4,5,6,7,8]\n",
        "print(numeros)"
      ],
      "metadata": {
        "id": "YdgKlRms3Cw3",
        "colab": {
          "base_uri": "https://localhost:8080/"
        },
        "outputId": "b33af5d4-035e-4977-98cc-14f1e1c957b6"
      },
      "execution_count": null,
      "outputs": [
        {
          "output_type": "stream",
          "name": "stdout",
          "text": [
            "[1, 2, 3, 4, 5, 6, 7, 8]\n"
          ]
        }
      ]
    },
    {
      "cell_type": "markdown",
      "source": [
        "**Um array é uma estrutura de dados que armazena vários valores em uma única variável**"
      ],
      "metadata": {
        "id": "qtRH2d1u3NhU"
      }
    },
    {
      "cell_type": "markdown",
      "source": [
        "**Diferença Chave:**\n",
        "\n",
        "    Listas Python: [1, 2, 3]\n",
        "\n",
        "    Arrays NumPy: [1 2 3] (sem vírgulas, e cálculos instantâneos!)"
      ],
      "metadata": {
        "id": "VAYlKkKO3Zcn"
      }
    },
    {
      "cell_type": "markdown",
      "source": [
        "**Parte 2: Operações Vetorizadas (Sem Loops!)**\n",
        "\n",
        "\"Vetorizado\" = Fazer contas em todos os itens de uma vez (sem for)."
      ],
      "metadata": {
        "id": "_AmE90gb3egt"
      }
    },
    {
      "cell_type": "code",
      "source": [
        "#Exemplo 2: Soma Relâmpago\n",
        "\n",
        "\n",
        "import numpy as np\n",
        "\n",
        "\n",
        "numeros = np.array([1, 2, 3, 4, 5, 6, 7, 8])\n",
        "\n",
        "\n",
        "soma = numeros + 5  # Soma 5 a cada elemento do array\n",
        "\n",
        "\n",
        "print(\"Array original:\", numeros)\n",
        "print(\"Array após soma relâmpago (+5):\", soma)"
      ],
      "metadata": {
        "id": "w6fGiprC3bpp",
        "colab": {
          "base_uri": "https://localhost:8080/"
        },
        "outputId": "62865ec9-2efe-47f4-e0b7-4387a7d37e89"
      },
      "execution_count": null,
      "outputs": [
        {
          "output_type": "stream",
          "name": "stdout",
          "text": [
            "Array original: [1 2 3 4 5 6 7 8]\n",
            "Array após soma relâmpago (+5): [ 6  7  8  9 10 11 12 13]\n"
          ]
        }
      ]
    },
    {
      "cell_type": "code",
      "source": [
        "#Exemplo 3: Matemática em Massa\n",
        "\n",
        "import numpy as np\n",
        "\n",
        "\n",
        "numeros = np.array([1, 2, 3, 4, 5, 6, 7, 8, 9, 10])\n",
        "\n",
        "\n",
        "soma = np.sum(numeros)\n",
        "\n",
        "\n",
        "multiplicacao = numeros * 3\n",
        "\n",
        "# Potência: Elevando todos os números ao quadrado\n",
        "potencia = np.power(numeros, 2)\n",
        "\n",
        "# Média dos elementos\n",
        "media = np.mean(numeros)\n",
        "\n",
        "# Desvio padrão dos elementos\n",
        "desvio_padrao = np.std(numeros)\n",
        "\n",
        "\n",
        "print(\"Array original:\", numeros)\n",
        "print(\"Soma dos elementos:\", soma)\n",
        "print(\"Multiplicação por 3:\", multiplicacao)\n",
        "print(\"Potência (elevando ao quadrado):\", potencia)\n",
        "print(\"Média dos elementos:\", media)\n"
      ],
      "metadata": {
        "id": "Gy5AAjHL3xVS",
        "colab": {
          "base_uri": "https://localhost:8080/"
        },
        "outputId": "90d7ddeb-cd36-4b5b-9e18-8c7c8fea6ca8"
      },
      "execution_count": null,
      "outputs": [
        {
          "output_type": "stream",
          "name": "stdout",
          "text": [
            "Array original: [ 1  2  3  4  5  6  7  8  9 10]\n",
            "Soma dos elementos: 55\n",
            "Multiplicação por 3: [ 3  6  9 12 15 18 21 24 27 30]\n",
            "Potência (elevando ao quadrado): [  1   4   9  16  25  36  49  64  81 100]\n",
            "Média dos elementos: 5.5\n"
          ]
        }
      ]
    },
    {
      "cell_type": "markdown",
      "source": [
        "## Parte 3: Indexação Avançada\n"
      ],
      "metadata": {
        "id": "2cj-F6as3-AD"
      }
    },
    {
      "cell_type": "code",
      "source": [
        "#Exemplo 4: Slicing (Fatiamento)\n",
        "\n",
        "import numpy as np\n",
        "\n",
        "\n",
        "numeros = np.array([10, 20, 30, 40, 50, 60, 70, 80, 90, 100])\n",
        "\n",
        "# Fatiamento (slicing) no array:\n",
        "fatia1 = numeros[2:6]  # Pega do índice 2 até o índice 6 (não inclui 6)\n",
        "fatia2 = numeros[:5]  # Pega do início até o índice 5 (não inclui 5)\n",
        "fatia3 = numeros[5:]  # Pega do índice 5 até o final\n",
        "fatia4 = numeros[::2]  # Pega todos os elementos com passo 2 (elementos alternados)\n",
        "\n",
        "\n",
        "print(\"Array original:\", numeros)\n",
        "print(\"Fatia 1 (índices 2 a 5):\", fatia1)\n",
        "print(\"Fatia 2 (do início até o índice 4):\", fatia2)\n",
        "print(\"Fatia 3 (do índice 5 até o final):\", fatia3)\n",
        "print(\"Fatia 4 (com passo 2):\", fatia4)\n"
      ],
      "metadata": {
        "id": "Md_nySv735VB",
        "colab": {
          "base_uri": "https://localhost:8080/"
        },
        "outputId": "fb06985c-5a4b-44da-ec4e-a28c085a10fb"
      },
      "execution_count": null,
      "outputs": [
        {
          "output_type": "stream",
          "name": "stdout",
          "text": [
            "Array original: [ 10  20  30  40  50  60  70  80  90 100]\n",
            "Fatia 1 (índices 2 a 5): [30 40 50 60]\n",
            "Fatia 2 (do início até o índice 4): [10 20 30 40 50]\n",
            "Fatia 3 (do índice 5 até o final): [ 60  70  80  90 100]\n",
            "Fatia 4 (com passo 2): [10 30 50 70 90]\n"
          ]
        }
      ]
    },
    {
      "cell_type": "code",
      "source": [
        "#Exemplo 5: Boolean Masking (Filtro Mágico)\n",
        "\n",
        "import numpy as np\n",
        "\n",
        "\n",
        "numeros = np.array([10, 20, 30, 40, 50, 60, 70, 80, 90, 100])\n",
        "\n",
        "# Boolean Masking: Filtrando números maiores que 50\n",
        "maiores_que_50 = numeros[numeros > 50]\n",
        "\n",
        "# Filtrando números pares\n",
        "pares = numeros[numeros % 2 == 0]\n",
        "\n",
        "\n",
        "print(\"Array original:\", numeros)\n",
        "print(\"Números maiores que 50:\", maiores_que_50)\n",
        "print(\"Números pares:\", pares)\n"
      ],
      "metadata": {
        "id": "NE9DGz0g4MzM",
        "colab": {
          "base_uri": "https://localhost:8080/"
        },
        "outputId": "8d6b1b5e-2406-48c1-84f7-eb0f42b9fd79"
      },
      "execution_count": null,
      "outputs": [
        {
          "output_type": "stream",
          "name": "stdout",
          "text": [
            "Array original: [ 10  20  30  40  50  60  70  80  90 100]\n",
            "Números maiores que 50: [ 60  70  80  90 100]\n",
            "Números pares: [ 10  20  30  40  50  60  70  80  90 100]\n"
          ]
        }
      ]
    },
    {
      "cell_type": "markdown",
      "source": [
        "Exercício Prático\n",
        "\n",
        "Problema: Dado o array [5, 10, 15, 20]:\n",
        "\n",
        "    Calcule a média. (Só usar o mean para calcular a média)\n",
        "\n",
        "    Filtre valores maiores que 10."
      ],
      "metadata": {
        "id": "3b3l1zwv4c4W"
      }
    },
    {
      "cell_type": "markdown",
      "source": [
        "#Exercício Geral\n",
        "\n",
        "O exercício que combina todos os conceitos que vimos (variáveis, listas, loops, funções, NumPy, POO e operadores)"
      ],
      "metadata": {
        "id": "EICVOCiTF-4k"
      }
    },
    {
      "cell_type": "markdown",
      "source": [
        "**1. Criar uma Classe Livro**\n",
        "\n",
        "    Atributos: titulo (string), autor (string), disponivel (boolean - inicie como True).\n",
        "\n",
        "    Método: emprestar() que muda disponivel para False."
      ],
      "metadata": {
        "id": "bTSuYRAxGLUh"
      }
    },
    {
      "cell_type": "code",
      "source": [
        "# Definindo a classe Livro\n",
        "class Livro:\n",
        "\n",
        "    def __init__(self, titulo, autor):\n",
        "        self.titulo = titulo\n",
        "        self.autor = autor\n",
        "        self.disponivel = True  # O livro começa disponível (True)\n",
        "\n",
        "  # Método para emprestar o livro\n",
        "    def emprestar(self):\n",
        "        if self.disponivel:\n",
        "            self.disponivel = False  # Torna o livro indisponível\n",
        "            print(f'O livro \"{self.titulo}\" foi emprestado com sucesso.')\n",
        "        else:\n",
        "            print(f'O livro \"{self.titulo}\" já foi emprestado e não está disponível no momento.')\n",
        "\n",
        "    # Método para exibir o status do livro\n",
        "    def status(self):\n",
        "        if self.disponivel:\n",
        "            print(f'O livro \"{self.titulo}\" de {self.autor} está disponível para empréstimo.')\n",
        "        else:\n",
        "            print(f'O livro \"{self.titulo}\" de {self.autor} não está disponível no momento.')\n",
        "\n",
        "# Criando objetos da classe Livro\n",
        "livro1 = Livro(\"1984\", \"George Orwell\")\n",
        "livro2 = Livro(\"A Moreninha\", \"Joaquim Manuel de Macedo\")\n",
        "\n",
        "# Exibindo o status dos livros\n",
        "livro1.status()\n",
        "livro2.status()\n",
        "\n",
        "# Emprestando o livro1\n",
        "livro1.emprestar()\n",
        "\n",
        "# Exibindo o status após o empréstimo\n",
        "livro1.status()\n",
        "livro2.status()\n"
      ],
      "metadata": {
        "id": "gMlhy7C7G8TA",
        "colab": {
          "base_uri": "https://localhost:8080/"
        },
        "outputId": "5bfecbc9-40c2-46d0-fee8-149d0b53a671"
      },
      "execution_count": null,
      "outputs": [
        {
          "output_type": "stream",
          "name": "stdout",
          "text": [
            "O livro \"1984\" de George Orwell está disponível para empréstimo.\n",
            "O livro \"A Moreninha\" de Joaquim Manuel de Macedo está disponível para empréstimo.\n",
            "O livro \"1984\" foi emprestado com sucesso.\n",
            "O livro \"1984\" de George Orwell não está disponível no momento.\n",
            "O livro \"A Moreninha\" de Joaquim Manuel de Macedo está disponível para empréstimo.\n"
          ]
        }
      ]
    },
    {
      "cell_type": "markdown",
      "source": [
        "**2. Lista de Livros e Operações**\n",
        "\n",
        "    Crie uma lista biblioteca com 3 livros (ex: \"Dom Casmurro\", \"1984\", \"O Pequeno Príncipe\").\n",
        "\n",
        "    Use um loop para emprestar um livro e imprimir seu status."
      ],
      "metadata": {
        "id": "CTHBZWneGRFu"
      }
    },
    {
      "cell_type": "code",
      "source": [
        "# Lista de livros na biblioteca\n",
        "biblioteca = [\n",
        "    {\"titulo\": \"Dom Casmurro\", \"emprestado\": False},\n",
        "    {\"titulo\": \"1984\", \"emprestado\": False},\n",
        "    {\"titulo\": \"O Pequeno Príncipe\", \"emprestado\": False}\n",
        "]\n",
        "\n",
        "# Loop para emprestar os livros\n",
        "for livro in biblioteca:\n",
        "    livro[\"emprestado\"] = True  # Simula o empréstimo\n",
        "    print(f'O livro \"{livro[\"titulo\"]}\" foi emprestado? {livro[\"emprestado\"]}')\n"
      ],
      "metadata": {
        "id": "k228LPYqG3h2",
        "colab": {
          "base_uri": "https://localhost:8080/"
        },
        "outputId": "101f44ab-683a-47ba-a392-133663f899c1"
      },
      "execution_count": 160,
      "outputs": [
        {
          "output_type": "stream",
          "name": "stdout",
          "text": [
            "O livro \"Dom Casmurro\" foi emprestado? True\n",
            "O livro \"1984\" foi emprestado? True\n",
            "O livro \"O Pequeno Príncipe\" foi emprestado? True\n"
          ]
        }
      ]
    },
    {
      "cell_type": "markdown",
      "source": [
        "**3. Filtro com Boolean Masking**\n",
        "\n",
        "    Crie um array com páginas fictícias (ex: [200, 328, 96]).\n",
        "\n",
        "    Filtre livros com mais de 100 páginas."
      ],
      "metadata": {
        "id": "2lT4UGlcGWTa"
      }
    },
    {
      "cell_type": "code",
      "source": [
        "# Definindo a classe Livro\n",
        "class Livro:\n",
        "\n",
        "    def __init__(self, titulo, autor):\n",
        "        self.titulo = titulo\n",
        "        self.autor = autor\n",
        "        self.disponivel = True  # O livro começa disponível (True)\n",
        "\n",
        "    # Método para emprestar o livro\n",
        "    def emprestar(self):\n",
        "        if self.disponivel:\n",
        "            self.disponivel = False  # Torna o livro indisponível\n",
        "            print(f'O livro \"{self.titulo}\" foi emprestado com sucesso.')\n",
        "        else:\n",
        "            print(f'O livro \"{self.titulo}\" já foi emprestado e não está disponível no momento.')\n",
        "\n",
        "    # Método para exibir o status do livro\n",
        "    def status(self):\n",
        "        if self.disponivel:\n",
        "            print(f'O livro \"{self.titulo}\" de {self.autor} está disponível para empréstimo.')\n",
        "        else:\n",
        "            print(f'O livro \"{self.titulo}\" de {self.autor} não está disponível no momento.')\n",
        "\n",
        "# Criando a lista \"biblioteca\" com 3 livros\n",
        "biblioteca = [\n",
        "    Livro(\"Dom Casmurro\", \"Machado de Assis\"),\n",
        "    Livro(\"1984\", \"George Orwell\"),\n",
        "    Livro(\"O Pequeno Príncipe\", \"Antoine de Saint-Exupéry\")\n",
        "]\n",
        "\n",
        "# Usando um loop para emprestar um livro e imprimir seu status\n",
        "for livro in biblioteca:\n",
        "    livro.emprestar()  # Empresta o livro\n",
        "    livro.status()     # Imprime o status do livro após o empréstimo\n"
      ],
      "metadata": {
        "id": "7cgAepvqG2ja",
        "colab": {
          "base_uri": "https://localhost:8080/"
        },
        "outputId": "9d74cb6a-cde6-4118-d488-5b77d3b9dfec"
      },
      "execution_count": null,
      "outputs": [
        {
          "output_type": "stream",
          "name": "stdout",
          "text": [
            "O livro \"Dom Casmurro\" foi emprestado com sucesso.\n",
            "O livro \"Dom Casmurro\" de Machado de Assis não está disponível no momento.\n",
            "O livro \"1984\" foi emprestado com sucesso.\n",
            "O livro \"1984\" de George Orwell não está disponível no momento.\n",
            "O livro \"O Pequeno Príncipe\" foi emprestado com sucesso.\n",
            "O livro \"O Pequeno Príncipe\" de Antoine de Saint-Exupéry não está disponível no momento.\n"
          ]
        }
      ]
    },
    {
      "cell_type": "markdown",
      "source": [
        "**4. Função com NumPy**\n",
        "\n",
        "    Crie um array NumPy com os anos de publicação fictícios (ex: [1899, 1949, 1943]).\n",
        "\n",
        "    Calcule a média dos anos."
      ],
      "metadata": {
        "id": "F24A_oOIGgbS"
      }
    },
    {
      "cell_type": "code",
      "source": [
        "import numpy as np\n",
        "\n",
        "\n",
        "anos_publicacao = np.array([1899, 1949, 1943, 2001, 2020])\n",
        "\n",
        "# Calculando a média dos anos\n",
        "media_anos = np.mean(anos_publicacao)\n",
        "\n",
        "print(\"Anos de publicação:\", anos_publicacao)\n",
        "print(\"Média dos anos de publicação:\", media_anos)\n"
      ],
      "metadata": {
        "id": "TcBwd2FWG278",
        "colab": {
          "base_uri": "https://localhost:8080/"
        },
        "outputId": "0d5bc67d-5bef-4181-8422-58903da43d8c"
      },
      "execution_count": null,
      "outputs": [
        {
          "output_type": "stream",
          "name": "stdout",
          "text": [
            "Anos de publicação: [1899 1949 1943 2001 2020]\n",
            "Média dos anos de publicação: 1962.4\n"
          ]
        }
      ]
    }
  ]
}